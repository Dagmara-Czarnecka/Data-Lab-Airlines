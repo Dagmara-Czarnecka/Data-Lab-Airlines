{
 "cells": [
  {
   "cell_type": "code",
   "execution_count": 45,
   "metadata": {
    "id": "iNziBCXSeJB_"
   },
   "outputs": [
    {
     "name": "stdout",
     "output_type": "stream",
     "text": [
      "Requirement already satisfied: mysql.connector in c:\\users\\dczar\\anaconda3\\lib\\site-packages (2.2.9)\n"
     ]
    },
    {
     "name": "stderr",
     "output_type": "stream",
     "text": [
      "WARNING: Ignoring invalid distribution -atplotlib (c:\\users\\dczar\\anaconda3\\lib\\site-packages)\n",
      "WARNING: Ignoring invalid distribution -atplotlib (c:\\users\\dczar\\anaconda3\\lib\\site-packages)\n",
      "WARNING: Ignoring invalid distribution -atplotlib (c:\\users\\dczar\\anaconda3\\lib\\site-packages)\n",
      "WARNING: Ignoring invalid distribution -atplotlib (c:\\users\\dczar\\anaconda3\\lib\\site-packages)\n",
      "WARNING: Ignoring invalid distribution -atplotlib (c:\\users\\dczar\\anaconda3\\lib\\site-packages)\n",
      "WARNING: Ignoring invalid distribution -atplotlib (c:\\users\\dczar\\anaconda3\\lib\\site-packages)\n"
     ]
    }
   ],
   "source": [
    "!pip install mysql.connector\n",
    "import pandas as pd\n",
    "import mysql.connector as sql\n",
    "from sqlalchemy import create_engine\n",
    "from sqlalchemy.engine import URL\n",
    "from psycopg2 import connect"
   ]
  },
  {
   "cell_type": "markdown",
   "metadata": {
    "id": "HRua_IlQeJCB"
   },
   "source": [
    " ## Database connection\n"
   ]
  },
  {
   "cell_type": "code",
   "execution_count": 46,
   "metadata": {
    "id": "wT44iHmEeJCB"
   },
   "outputs": [],
   "source": [
    "con = connect(\n",
    "    host = 'localhost',\n",
    "    database = 'airlines',\n",
    "    user = 'postgres',\n",
    "    password = '8286'\n",
    "    )"
   ]
  },
  {
   "cell_type": "code",
   "execution_count": 47,
   "metadata": {
    "id": "C5qvDHOdeJCD"
   },
   "outputs": [],
   "source": [
    "url = URL.create(\n",
    "    \"postgresql\",\n",
    "    username=\"postgres\",\n",
    "    password=\"8286\",\n",
    "    host=\"localhost\",\n",
    "    database=\"airlines\"\n",
    ")\n",
    "\n",
    "engine = create_engine(url)"
   ]
  },
  {
   "cell_type": "markdown",
   "metadata": {
    "id": "VRQPq0zCeJCE"
   },
   "source": [
    " # Loading frames\n"
   ]
  },
  {
   "cell_type": "code",
   "execution_count": 48,
   "metadata": {
    "id": "53atDnj1eJCF"
   },
   "outputs": [],
   "source": [
    "def load_raw_data(file_name):\n",
    "    sciezka_do_pliku = f'..\\\\data\\\\raw\\\\{file_name}.csv'\n",
    "    df_raw = pd.read_csv(sciezka_do_pliku, sep = ',', decimal = '.')\n",
    "    df_processed = df_raw.rename(columns = str.lower)\n",
    "    return df_processed\n",
    "    pass"
   ]
  },
  {
   "cell_type": "markdown",
   "metadata": {
    "id": "tSrQ0m21eJCG"
   },
   "source": [
    " # Load individual files into frames"
   ]
  },
  {
   "cell_type": "code",
   "execution_count": 49,
   "metadata": {
    "id": "YeuWXdvVeJCH"
   },
   "outputs": [],
   "source": [
    "aircraft_df = load_raw_data('aircraft')"
   ]
  },
  {
   "cell_type": "code",
   "execution_count": 50,
   "metadata": {},
   "outputs": [],
   "source": [
    "airport_list_df = load_raw_data('airport_list')"
   ]
  },
  {
   "cell_type": "code",
   "execution_count": 51,
   "metadata": {},
   "outputs": [],
   "source": [
    "airport_weather_df = load_raw_data('airport_weather')"
   ]
  },
  {
   "cell_type": "code",
   "execution_count": 53,
   "metadata": {},
   "outputs": [],
   "source": [
    "flight_df = load_raw_data('flight')\n",
    "flight_df = flight_df.drop(['unnamed: 0'], axis = 1)"
   ]
  },
  {
   "cell_type": "markdown",
   "metadata": {
    "id": "P7Fp3WbOeJCH"
   },
   "source": [
    " # Data export to the database"
   ]
  },
  {
   "cell_type": "code",
   "execution_count": 54,
   "metadata": {
    "id": "jrt2qSqoeJCI"
   },
   "outputs": [],
   "source": [
    "def export_table_to_db(df, table_name):\n",
    "    print(f\"Loading data into {table_name}\")\n",
    "    sql = f'DROP TABLE IF EXISTS {table_name}'\n",
    "    engine.execute(sql)\n",
    "    df.to_sql(\n",
    "        f'{table_name}', \n",
    "        con = engine, \n",
    "        if_exists = 'replace', \n",
    "        index = True, \n",
    "        index_label = 'id',\n",
    "        chunksize = 100)\n",
    "    con.commit()\n",
    "    return print(f'Done for {table_name}')\n",
    "    pass\n",
    "\n"
   ]
  },
  {
   "cell_type": "markdown",
   "metadata": {
    "id": "Sg3ydt36eJCJ"
   },
   "source": [
    " ## Data Upload"
   ]
  },
  {
   "cell_type": "markdown",
   "metadata": {
    "id": "JuI60XD5eJCK"
   },
   "source": [
    " ### Uploading `aircraft_df` to the `aircraft` table"
   ]
  },
  {
   "cell_type": "code",
   "execution_count": 55,
   "metadata": {
    "id": "kY5OyDnAeJCL"
   },
   "outputs": [
    {
     "name": "stdout",
     "output_type": "stream",
     "text": [
      "Loading data into aircraft\n",
      "Done for aircraft\n"
     ]
    }
   ],
   "source": [
    "export_table_to_db(aircraft_df, 'aircraft')"
   ]
  },
  {
   "cell_type": "markdown",
   "metadata": {
    "id": "rHjxxwgdeJCL"
   },
   "source": [
    "\n",
    "### Uploading `airport_weather_df` to table `airport_weather"
   ]
  },
  {
   "cell_type": "code",
   "execution_count": 56,
   "metadata": {
    "id": "IYvgw-IoeJCL"
   },
   "outputs": [
    {
     "name": "stdout",
     "output_type": "stream",
     "text": [
      "Loading data into airport_weather\n",
      "Done for airport_weather\n"
     ]
    }
   ],
   "source": [
    "export_table_to_db(airport_weather_df, 'airport_weather')"
   ]
  },
  {
   "cell_type": "markdown",
   "metadata": {
    "id": "gFvk6dyzeJCL"
   },
   "source": [
    "### Uploading `flight_df` to `flight` table\n",
    " > Execution of this cell will be time consuming due to the amount of data in the frame."
   ]
  },
  {
   "cell_type": "code",
   "execution_count": 57,
   "metadata": {
    "id": "DXF34bXXeJCM"
   },
   "outputs": [
    {
     "name": "stdout",
     "output_type": "stream",
     "text": [
      "Loading data into flight\n",
      "Done for flight\n"
     ]
    }
   ],
   "source": [
    "export_table_to_db(flight_df, 'flight')"
   ]
  },
  {
   "cell_type": "markdown",
   "metadata": {
    "id": "iDoSWOgMeJCM"
   },
   "source": [
    "### Uploading `airport_list_df` to table `airport_list`"
   ]
  },
  {
   "cell_type": "code",
   "execution_count": 58,
   "metadata": {
    "id": "nEHvIp4EeJCM"
   },
   "outputs": [
    {
     "name": "stdout",
     "output_type": "stream",
     "text": [
      "Loading data into airport_list\n",
      "Done for airport_list\n"
     ]
    }
   ],
   "source": [
    "export_table_to_db(airport_list_df, 'airport_list')"
   ]
  },
  {
   "cell_type": "markdown",
   "metadata": {
    "id": "kLMVtoQGeJCM"
   },
   "source": [
    " # Checking the correctness of the notebook\n",
    "Run the code below to verify that this part is done correctly"
   ]
  },
  {
   "cell_type": "code",
   "execution_count": 59,
   "metadata": {
    "id": "2dYHiIHieJCN"
   },
   "outputs": [],
   "source": [
    "def test_data_export(table_name, expected_count, expected_schema):\n",
    "    real_count = pd.read_sql(f\"SELECT COUNT(*) as cnt FROM {table_name}\", engine).iloc[0][0]\n",
    "    \n",
    "    real_schema = pd.read_sql(f\"SELECT * FROM {table_name} LIMIT 0\", engine)\n",
    "    real_schema = set(real_schema.columns)\n",
    "\n",
    "    expected_schema = set(expected_schema)\n",
    "\n",
    "    diff = real_schema.symmetric_difference(expected_schema)\n",
    "\n",
    "    assert len(diff) == 0, ('Nie zgadzają się kolumny tabel....'\n",
    "    f'\\tOczekiwano: {expected_schema}'\n",
    "    f'\\tOtrzymano: {real_schema}'\n",
    "    f'\\tRóżnica: {diff}')\n",
    "\n",
    "    assert expected_count == real_count, f'Nie zgadza się liczba wierszy, oczekiwano {expected_count}, otrzymano {real_count}'"
   ]
  },
  {
   "cell_type": "markdown",
   "metadata": {
    "id": "cIx10mhIeJCN"
   },
   "source": [
    " ## Checking the `aircraft` table"
   ]
  },
  {
   "cell_type": "code",
   "execution_count": 60,
   "metadata": {
    "id": "zSAFdpLLeJCN"
   },
   "outputs": [],
   "source": [
    "aircraft_expected_count = 7383\n",
    "aircraft_expected_schema = ['id', 'manufacture_year', 'tail_num', 'number_of_seats']\n",
    "\n",
    "test_data_export('aircraft', aircraft_expected_count, aircraft_expected_schema)"
   ]
  },
  {
   "cell_type": "markdown",
   "metadata": {
    "id": "R2GCOkbOeJCN"
   },
   "source": [
    " ## Checking the `airport_weather` table\n"
   ]
  },
  {
   "cell_type": "code",
   "execution_count": 61,
   "metadata": {
    "id": "FQxznvjUeJCO"
   },
   "outputs": [],
   "source": [
    "airport_weather_expected_count = 46226\n",
    "airport_weather_expected_schema = ['id', 'station', 'name', 'date', 'awnd', 'prcp', 'snow', 'snwd', 'tavg', 'tmax', 'tmin', 'wdf2', 'wdf5', 'wsf2', 'wsf5', 'wt01', 'wt08', 'wt02',\n",
    "       'wt03', 'wt04', 'wt09', 'wt06', 'wt05', 'pgtm', 'wt10', 'wesd', 'sn32',\n",
    "       'sx32', 'psun', 'tsun', 'tobs', 'wt07', 'wt11', 'wt18']\n",
    "\n",
    "test_data_export('airport_weather', airport_weather_expected_count, airport_weather_expected_schema)"
   ]
  },
  {
   "cell_type": "markdown",
   "metadata": {
    "id": "taPX25lQeJCO"
   },
   "source": [
    " ## Checking the `flight` table\n"
   ]
  },
  {
   "cell_type": "code",
   "execution_count": 62,
   "metadata": {
    "id": "V-wFqEzreJCO"
   },
   "outputs": [],
   "source": [
    "flight_expected_count = 9251880\n",
    "flight_expected_schema = ['id', 'month', 'day_of_month', 'day_of_week', 'op_unique_carrier', 'tail_num',\n",
    "       'op_carrier_fl_num', 'origin_airport_id', 'dest_airport_id',\n",
    "       'crs_dep_time', 'dep_time', 'dep_delay_new', 'dep_time_blk',\n",
    "       'crs_arr_time', 'arr_time', 'arr_delay_new', 'arr_time_blk',\n",
    "       'cancelled', 'crs_elapsed_time', 'actual_elapsed_time', 'distance',\n",
    "       'distance_group', 'year', 'carrier_delay', 'weather_delay', 'nas_delay',\n",
    "       'security_delay', 'late_aircraft_delay']\n",
    "\n",
    "test_data_export('flight', flight_expected_count, flight_expected_schema)"
   ]
  },
  {
   "cell_type": "markdown",
   "metadata": {
    "id": "cxE3lAUAeJCP"
   },
   "source": [
    " ## Checking the `airport_list` table\n"
   ]
  },
  {
   "cell_type": "code",
   "execution_count": 63,
   "metadata": {
    "id": "tRD2iJMXeJCP"
   },
   "outputs": [],
   "source": [
    "aircraft_list_expected_count = 97\n",
    "aircraft_list_expected_schema = ['id', 'origin_airport_id', 'display_airport_name', 'origin_city_name', 'name']\n",
    "\n",
    "test_data_export('airport_list', aircraft_list_expected_count, aircraft_list_expected_schema)\n"
   ]
  },
  {
   "cell_type": "code",
   "execution_count": 64,
   "metadata": {
    "id": "bKWE8bx2eJCP"
   },
   "outputs": [
    {
     "name": "stdout",
     "output_type": "stream",
     "text": [
      "Wszystko wygląda OK :) Możesz przejść do kolejnego kroku.\n"
     ]
    }
   ],
   "source": [
    "msg = \"Wszystko wygląda OK :) Możesz przejść do kolejnego kroku.\"\n",
    "print(msg)"
   ]
  },
  {
   "cell_type": "markdown",
   "metadata": {
    "id": "24WRkE81eJCP"
   },
   "source": [
    " # Summary\n",
    "In this notebook, we have uploaded the previously downloaded files to the database. As a result, we have created a central place for their storage, which we will use both in data analysis and in the subsequent construction of the reporting system."
   ]
  }
 ],
 "metadata": {
  "colab": {
   "provenance": []
  },
  "kernelspec": {
   "display_name": "Python 3 (ipykernel)",
   "language": "python",
   "name": "python3"
  },
  "language_info": {
   "codemirror_mode": {
    "name": "ipython",
    "version": 3
   },
   "file_extension": ".py",
   "mimetype": "text/x-python",
   "name": "python",
   "nbconvert_exporter": "python",
   "pygments_lexer": "ipython3",
   "version": "3.9.12"
  },
  "vscode": {
   "interpreter": {
    "hash": "97b21747a2d6163ce9759ba63e94e55ef90a08103eb2c9ebee1827489f5a0c25"
   }
  }
 },
 "nbformat": 4,
 "nbformat_minor": 1
}
