{
 "cells": [
  {
   "cell_type": "markdown",
   "metadata": {},
   "source": [
    "# Termination\n",
    " After the workshop, it's time for a short summary of the work done.\n",
    "\n",
    " During the task, we played the role of the person responsible for improving the data flow and analytics process. Previously, due to the use of an external tool, the company was forced to perform all these activities manually. Thanks to the provision of an external service, it was possible to automate the task.\n",
    "\n",
    "\n",
    " # Thanks\n",
    " Thank you for participating in the `CodersLab - DataLab` course. We hope that the skills acquired here will help you change your job or improve your daily activities."
   ]
  },
  {
   "cell_type": "code",
   "execution_count": null,
   "metadata": {},
   "outputs": [],
   "source": []
  }
 ],
 "metadata": {
  "kernelspec": {
   "display_name": "Python 3 (ipykernel)",
   "language": "python",
   "name": "python3"
  },
  "language_info": {
   "codemirror_mode": {
    "name": "ipython",
    "version": 3
   },
   "file_extension": ".py",
   "mimetype": "text/x-python",
   "name": "python",
   "nbconvert_exporter": "python",
   "pygments_lexer": "ipython3",
   "version": "3.9.12"
  },
  "vscode": {
   "interpreter": {
    "hash": "136089914e87e2d4f80cd8636e7ceb6fbad42888d13047c5eed4d3dfe8a58423"
   }
  }
 },
 "nbformat": 4,
 "nbformat_minor": 2
}
