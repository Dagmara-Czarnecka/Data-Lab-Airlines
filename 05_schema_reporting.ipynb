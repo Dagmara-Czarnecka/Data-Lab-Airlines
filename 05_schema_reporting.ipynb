{
 "cells": [
  {
   "cell_type": "markdown",
   "metadata": {},
   "source": [
    " # Notebook description\n",
    " The analysis prepared in the previous step was received positively. Therefore, we have been asked\n",
    " o preparation of a report based on data from 2020. It is to be later implemented by the IT team on an external basis\n",
    " service. The choice fell on `Dash`.\n",
    "\n",
    " We will perform the task in two steps:\n",
    " 1. Knowing the requirements of the report, we will create the appropriate components on the database, which will then be used for visualization.\n",
    " 1. We will create a report using `Dash`.\n",
    "\n",
    " This notebook focuses on the proper preparation of the database for reporting purposes."
   ]
  },
  {
   "cell_type": "markdown",
   "metadata": {},
   "source": [
    " # Business requirements\n",
    " Following the presentation of the analysis results at an independent meeting, the following reporting areas were defined:\n",
    " 1. Displaying TOP 10 airports based on the number of departures, information on the number of arrivals is also to be displayed - view `top_airports_by_departure`.\n",
    " 1. Displaying the TOP 10 routes based on reliability, the minimum number of flights on the route should be at least 10,000. The order is important to us, for example, the route (Warsaw, Paris) is different than (Paris, Warsaw) - view `top_reliability_roads` .\n",
    " 1. Comparison of 2019 vs. 2020 to track the impact of COVID on flight performance. We are interested in approaches:\n",
    "     - month to month, for example January 2019 vs. January 2020, February 2019 vs. february 2020 etc. - view `year_to_year_comparison`,\n",
    "     - day to day, for example Tuesday 2019 vs. tuesday 2020 - view `day_to_day_comparison`.\n",
    " 1. Daily."
   ]
  },
  {
   "cell_type": "markdown",
   "metadata": {},
   "source": [
    " # Technical approach to the problem\n"
   ]
  },
  {
   "cell_type": "markdown",
   "metadata": {},
   "source": [
    " # Database update\n"
   ]
  },
  {
   "cell_type": "code",
   "execution_count": 1,
   "metadata": {},
   "outputs": [],
   "source": [
    "from psycopg2 import connect"
   ]
  },
  {
   "cell_type": "code",
   "execution_count": 2,
   "metadata": {},
   "outputs": [],
   "source": [
    "connection = connect(\n",
    "    host = 'localhost',\n",
    "    database = 'airlines',\n",
    "    user = 'postgres',\n",
    "    password = '8286'\n",
    "    )"
   ]
  },
  {
   "cell_type": "code",
   "execution_count": 3,
   "metadata": {},
   "outputs": [],
   "source": [
    "cursor = connection.cursor()\n"
   ]
  },
  {
   "cell_type": "markdown",
   "metadata": {},
   "source": [
    "## Loading the `reporting.sql` file\n",
    " From the `sql` directory, read the `reporting.sql` file"
   ]
  },
  {
   "cell_type": "code",
   "execution_count": 4,
   "metadata": {},
   "outputs": [],
   "source": [
    "sql_file_data = open(r'../sql/reporting.sql', mode = 'r', encoding = 'UTF-8')"
   ]
  },
  {
   "cell_type": "code",
   "execution_count": 5,
   "metadata": {},
   "outputs": [],
   "source": [
    "sql_file_data = sql_file_data.read().replace('\\n', ' ').split(';')"
   ]
  },
  {
   "cell_type": "code",
   "execution_count": 6,
   "metadata": {},
   "outputs": [],
   "source": [
    "sql_queries = []\n",
    "for sql_query in sql_file_data:\n",
    "    sql_queries.append(f'{sql_query};')"
   ]
  },
  {
   "cell_type": "code",
   "execution_count": 7,
   "metadata": {},
   "outputs": [],
   "source": [
    "cursor.execute('CREATE SCHEMA IF NOT EXISTS reporting;')"
   ]
  },
  {
   "cell_type": "markdown",
   "metadata": {},
   "source": [
    " ### Check"
   ]
  },
  {
   "cell_type": "code",
   "execution_count": 8,
   "metadata": {},
   "outputs": [],
   "source": [
    "# Ten kod chyba wygląda znajomo....\n",
    "# istnienie widoków możemy sprawdzić tak samo jak tabele\n",
    "def check_if_table_exists(table_name):\n",
    "    msg = f\"Sprawdzam, czy istnieje tabela {table_name}\"\n",
    "    print(msg)\n",
    "\n",
    "    query = f\"select 1 from {table_name}\"\n",
    "    # jeżeli tabela nie istnieje, ten krok zwróci wyjątek\n",
    "    cursor.execute(query)\n",
    "    print('OK!')"
   ]
  },
  {
   "cell_type": "code",
   "execution_count": 9,
   "metadata": {},
   "outputs": [],
   "source": [
    "views_to_test = [\n",
    "    'reporting.flight',\n",
    "    'reporting.top_reliability_roads',\n",
    "    'reporting.year_to_year_comparision',\n",
    "    'reporting.day_to_day_comparision',\n",
    "    'reporting.day_by_day_reliability'\n",
    "]"
   ]
  },
  {
   "cell_type": "code",
   "execution_count": 10,
   "metadata": {},
   "outputs": [
    {
     "name": "stdout",
     "output_type": "stream",
     "text": [
      "Sprawdzam, czy istnieje tabela reporting.flight\n"
     ]
    },
    {
     "ename": "UndefinedTable",
     "evalue": "relation \"reporting.flight\" does not exist\nLINE 1: select 1 from reporting.flight\n                      ^\n",
     "output_type": "error",
     "traceback": [
      "\u001b[1;31m---------------------------------------------------------------------------\u001b[0m",
      "\u001b[1;31mUndefinedTable\u001b[0m                            Traceback (most recent call last)",
      "Input \u001b[1;32mIn [10]\u001b[0m, in \u001b[0;36m<cell line: 1>\u001b[1;34m()\u001b[0m\n\u001b[0;32m      1\u001b[0m \u001b[38;5;28;01mfor\u001b[39;00m view \u001b[38;5;129;01min\u001b[39;00m views_to_test:\n\u001b[1;32m----> 2\u001b[0m     \u001b[43mcheck_if_table_exists\u001b[49m\u001b[43m(\u001b[49m\u001b[43mview\u001b[49m\u001b[43m)\u001b[49m\n",
      "Input \u001b[1;32mIn [8]\u001b[0m, in \u001b[0;36mcheck_if_table_exists\u001b[1;34m(table_name)\u001b[0m\n\u001b[0;32m      7\u001b[0m query \u001b[38;5;241m=\u001b[39m \u001b[38;5;124mf\u001b[39m\u001b[38;5;124m\"\u001b[39m\u001b[38;5;124mselect 1 from \u001b[39m\u001b[38;5;132;01m{\u001b[39;00mtable_name\u001b[38;5;132;01m}\u001b[39;00m\u001b[38;5;124m\"\u001b[39m\n\u001b[0;32m      8\u001b[0m \u001b[38;5;66;03m# jeżeli tabela nie istnieje, ten krok zwróci wyjątek\u001b[39;00m\n\u001b[1;32m----> 9\u001b[0m \u001b[43mcursor\u001b[49m\u001b[38;5;241;43m.\u001b[39;49m\u001b[43mexecute\u001b[49m\u001b[43m(\u001b[49m\u001b[43mquery\u001b[49m\u001b[43m)\u001b[49m\n\u001b[0;32m     10\u001b[0m \u001b[38;5;28mprint\u001b[39m(\u001b[38;5;124m'\u001b[39m\u001b[38;5;124mOK!\u001b[39m\u001b[38;5;124m'\u001b[39m)\n",
      "\u001b[1;31mUndefinedTable\u001b[0m: relation \"reporting.flight\" does not exist\nLINE 1: select 1 from reporting.flight\n                      ^\n"
     ]
    }
   ],
   "source": [
    "for view in views_to_test:\n",
    "    check_if_table_exists(view)"
   ]
  },
  {
   "cell_type": "code",
   "execution_count": 11,
   "metadata": {},
   "outputs": [
    {
     "name": "stdout",
     "output_type": "stream",
     "text": [
      "Wszystko wygląda OK :) Możesz przejść do kolejnego zadania.\n"
     ]
    }
   ],
   "source": [
    "connection.close()\n",
    "msg = \"Wszystko wygląda OK :)\"\"\n",
    "print(msg)"
   ]
  },
  {
   "cell_type": "markdown",
   "metadata": {},
   "source": [
    " # Summary\n",
    " In this notebook we have created a new schema - `reporting`, whose task is to prepare our data\n",
    " for visualization. The next part of the work will consist in displaying data in a visually attractive way in an interactive report created\n",
    " using `Dash`."
   ]
  }
 ],
 "metadata": {
  "kernelspec": {
   "display_name": "Python 3 (ipykernel)",
   "language": "python",
   "name": "python3"
  },
  "language_info": {
   "codemirror_mode": {
    "name": "ipython",
    "version": 3
   },
   "file_extension": ".py",
   "mimetype": "text/x-python",
   "name": "python",
   "nbconvert_exporter": "python",
   "pygments_lexer": "ipython3",
   "version": "3.9.12"
  }
 },
 "nbformat": 4,
 "nbformat_minor": 2
}
