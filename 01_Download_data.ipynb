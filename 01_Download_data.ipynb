{
 "cells": [
  {
   "cell_type": "markdown",
   "metadata": {
    "id": "KfoENWKJcSq9"
   },
   "source": [
    "Notebook configuration"
   ]
  },
  {
   "cell_type": "markdown",
   "metadata": {
    "id": "W9F120yecSq-"
   },
   "source": [
    "Import the required libraries here\n"
   ]
  },
  {
   "cell_type": "code",
   "execution_count": 1,
   "metadata": {
    "id": "WoyekjhTcSq_"
   },
   "outputs": [],
   "source": [
    "import pandas as pd\n",
    "import requests\n",
    "import json\n",
    "\n",
    "from datetime import datetime\n",
    "from dateutil.relativedelta import relativedelta\n",
    "from time import sleepures\n"
   ]
  },
  {
   "cell_type": "markdown",
   "metadata": {
    "id": "xT_qqTgTcSq_"
   },
   "source": [
    " API"
   ]
  },
  {
   "cell_type": "code",
   "execution_count": 2,
   "metadata": {
    "id": "ZnX5NHdIcSrA"
   },
   "outputs": [],
   "source": [
    "endpoint_url = 'https://##########################.pl/api/v2'\n",
    "token = '#################################'\n",
    "request_offset = 0.3\n",
    "\n",
    "authorization = {'authorization': token}"
   ]
  },
  {
   "cell_type": "code",
   "execution_count": 3,
   "metadata": {
    "id": "cch5SNo7cSrB"
   },
   "outputs": [],
   "source": [
    "airport_list = pd.read_csv('../data/airports.csv')\n",
    "airports = airport_list['origin_airport_id'].values.tolist()"
   ]
  },
  {
   "cell_type": "code",
   "execution_count": null,
   "metadata": {},
   "outputs": [],
   "source": [
    "airport_endpoint_url = f\"{endpoint_url}/airport\""
   ]
  },
  {
   "cell_type": "code",
   "execution_count": 4,
   "metadata": {
    "id": "LU15PHoucsWC"
   },
   "outputs": [
    {
     "name": "stdout",
     "output_type": "stream",
     "text": [
      "Error: Could not retrieve data for airport with ID 10874\n",
      "Error: Could not retrieve data for airport with ID 11233\n",
      "Error: Could not retrieve data for airport with ID 13360\n",
      "Error: Could not retrieve data for airport with ID 15008\n",
      "Error: Could not retrieve data for airport with ID 14150\n",
      "Error: Could not retrieve data for airport with ID 15323\n",
      "Error: Could not retrieve data for airport with ID 14814\n",
      "Error: Could not retrieve data for airport with ID 12007\n",
      "Error: Could not retrieve data for airport with ID 11337\n",
      "Error: Could not retrieve data for airport with ID 15070\n",
      "Error: Could not retrieve data for airport with ID 12280\n",
      "Error: Could not retrieve data for airport with ID 11641\n",
      "Error: Could not retrieve data for airport with ID 13832\n",
      "Error: Could not retrieve data for airport with ID 10268\n",
      "Error: Could not retrieve data for airport with ID 15041\n",
      "Error: Could not retrieve data for airport with ID 12119\n",
      "Error: Could not retrieve data for airport with ID 11537\n",
      "Error: Could not retrieve data for airport with ID 11092\n",
      "Error: Could not retrieve data for airport with ID 10581\n",
      "Error: Could not retrieve data for airport with ID 13829\n",
      "Error: Could not retrieve data for airport with ID 15389\n",
      "Error: Could not retrieve data for airport with ID 12389\n",
      "Error: Could not retrieve data for airport with ID 11648\n",
      "Error: Could not retrieve data for airport with ID 15023\n",
      "Error: Could not retrieve data for airport with ID 11982\n",
      "Error: Could not retrieve data for airport with ID 10967\n",
      "Error: Could not retrieve data for airport with ID 11525\n",
      "Error: Could not retrieve data for airport with ID 14259\n",
      "Error: Could not retrieve data for airport with ID 11637\n",
      "Error: Could not retrieve data for airport with ID 10466\n",
      "Error: Could not retrieve data for airport with ID 10208\n",
      "Error: Could not retrieve data for airport with ID 15841\n",
      "Error: Could not retrieve data for airport with ID 12898\n",
      "Error: Could not retrieve data for airport with ID 13241\n",
      "Error: Could not retrieve data for airport with ID 13367\n",
      "Error: Could not retrieve data for airport with ID 11481\n",
      "Error: Could not retrieve data for airport with ID 14108\n",
      "Error: Could not retrieve data for airport with ID 13873\n",
      "Error: Could not retrieve data for airport with ID 10157\n",
      "Error: Could not retrieve data for airport with ID 10245\n",
      "Error: Could not retrieve data for airport with ID 11146\n",
      "Error: Could not retrieve data for airport with ID 13277\n",
      "Error: Could not retrieve data for airport with ID 11109\n",
      "Error: Could not retrieve data for airport with ID 13459\n",
      "Error: Could not retrieve data for airport with ID 11775\n",
      "Error: Could not retrieve data for airport with ID 16218\n",
      "Error: Could not retrieve data for airport with ID 14698\n",
      "Error: Could not retrieve data for airport with ID 14252\n",
      "Error: Could not retrieve data for airport with ID 13256\n",
      "Error: Could not retrieve data for airport with ID 13139\n",
      "Error: Could not retrieve data for airport with ID 12250\n",
      "Error: Could not retrieve data for airport with ID 11468\n",
      "Error: Could not retrieve data for airport with ID 14952\n",
      "Error: Could not retrieve data for airport with ID 12402\n",
      "Error: Could not retrieve data for airport with ID 14574\n",
      "Error: Could not retrieve data for airport with ID 11977\n",
      "Error: Could not retrieve data for airport with ID 11867\n",
      "Error: Could not retrieve data for airport with ID 11203\n",
      "Error: Could not retrieve data for airport with ID 10747\n",
      "Error: Could not retrieve data for airport with ID 14905\n",
      "Error: Could not retrieve data for airport with ID 12012\n",
      "Error: Could not retrieve data for airport with ID 14783\n",
      "Error: Could not retrieve data for airport with ID 10431\n",
      "Error: Could not retrieve data for airport with ID 10434\n",
      "Error: Could not retrieve data for airport with ID 16869\n",
      "Error: Could not retrieve data for airport with ID 10408\n",
      "Error: Could not retrieve data for airport with ID 11624\n",
      "Error: Could not retrieve data for airport with ID 13541\n",
      "Error: Could not retrieve data for airport with ID 13422\n",
      "Error: Could not retrieve data for airport with ID 14689\n",
      "Error: Could not retrieve data for airport with ID 12391\n",
      "Error: Could not retrieve data for airport with ID 10868\n",
      "Error: Could not retrieve data for airport with ID 14711\n",
      "Error: Could not retrieve data for airport with ID 11067\n",
      "Error: Could not retrieve data for airport with ID 10562\n",
      "Error: Could not retrieve data for airport with ID 11695\n",
      "Error: Could not retrieve data for airport with ID 14109\n",
      "Error: Could not retrieve data for airport with ID 13970\n",
      "Error: Could not retrieve data for airport with ID 11076\n",
      "Error: Could not retrieve data for airport with ID 14092\n",
      "Error: Could not retrieve data for airport with ID 11122\n",
      "Error: Could not retrieve data for airport with ID 11288\n",
      "Error: Could not retrieve data for airport with ID 11308\n",
      "Error: Could not retrieve data for airport with ID 10754\n",
      "Error: Could not retrieve data for airport with ID 12884\n",
      "Error: Could not retrieve data for airport with ID 14588\n",
      "Error: Could not retrieve data for airport with ID 12915\n",
      "Error: Could not retrieve data for airport with ID 11603\n",
      "Error: Could not retrieve data for airport with ID 14457\n",
      "Error: Could not retrieve data for airport with ID 12206\n",
      "Error: Could not retrieve data for airport with ID 11252\n",
      "Error: Could not retrieve data for airport with ID 11905\n",
      "Error: Could not retrieve data for airport with ID 14120\n",
      "Error: Could not retrieve data for airport with ID 11980\n",
      "Error: Could not retrieve data for airport with ID 14025\n",
      "Error: Could not retrieve data for airport with ID 11150\n",
      "Error: Could not retrieve data for airport with ID 14709\n",
      "Error: Could not retrieve data for airport with ID 15897\n",
      "Error: Could not retrieve data for airport with ID 14006\n",
      "Error: Could not retrieve data for airport with ID 12902\n",
      "Error: Could not retrieve data for airport with ID 13061\n",
      "Error: Could not retrieve data for airport with ID 12016\n",
      "Error: Could not retrieve data for airport with ID 14794\n",
      "Error: Could not retrieve data for airport with ID 11921\n",
      "Error: Could not retrieve data for airport with ID 10731\n",
      "Error: Could not retrieve data for airport with ID 14828\n",
      "Error: Could not retrieve data for airport with ID 12441\n",
      "Error: Could not retrieve data for airport with ID 14802\n",
      "Error: Could not retrieve data for airport with ID 13230\n",
      "Error: Could not retrieve data for airport with ID 10631\n",
      "Error: Could not retrieve data for airport with ID 10141\n",
      "Error: Could not retrieve data for airport with ID 13184\n",
      "Error: Could not retrieve data for airport with ID 10643\n",
      "Error: Could not retrieve data for airport with ID 10333\n",
      "Error: Could not retrieve data for airport with ID 12255\n",
      "Error: Could not retrieve data for airport with ID 14487\n",
      "Error: Could not retrieve data for airport with ID 12129\n",
      "Error: Could not retrieve data for airport with ID 10551\n",
      "Error: Could not retrieve data for airport with ID 14256\n",
      "Error: Could not retrieve data for airport with ID 13377\n",
      "Error: Could not retrieve data for airport with ID 10627\n",
      "Error: Could not retrieve data for airport with ID 12335\n",
      "Error: Could not retrieve data for airport with ID 14633\n",
      "Error: Could not retrieve data for airport with ID 11274\n",
      "Error: Could not retrieve data for airport with ID 14543\n",
      "Error: Could not retrieve data for airport with ID 10158\n",
      "Error: Could not retrieve data for airport with ID 12951\n",
      "Error: Could not retrieve data for airport with ID 14004\n",
      "Error: Could not retrieve data for airport with ID 12544\n",
      "Error: Could not retrieve data for airport with ID 10739\n",
      "Error: Could not retrieve data for airport with ID 10165\n",
      "Error: Could not retrieve data for airport with ID 13964\n",
      "Error: Could not retrieve data for airport with ID 14314\n",
      "Error: Could not retrieve data for airport with ID 10990\n",
      "Error: Could not retrieve data for airport with ID 14812\n",
      "Error: Could not retrieve data for airport with ID 10561\n",
      "Error: Could not retrieve data for airport with ID 10146\n",
      "Error: Could not retrieve data for airport with ID 15991\n",
      "Error: Could not retrieve data for airport with ID 15401\n",
      "Error: Could not retrieve data for airport with ID 11587\n",
      "Error: Could not retrieve data for airport with ID 14520\n",
      "Error: Could not retrieve data for airport with ID 10185\n",
      "Error: Could not retrieve data for airport with ID 14534\n",
      "Error: Could not retrieve data for airport with ID 11111\n"
     ]
    },
    {
     "name": "stdout",
     "output_type": "stream",
     "text": [
      "Error: Could not retrieve data for airport with ID 15024\n",
      "Error: Could not retrieve data for airport with ID 12917\n",
      "Error: Could not retrieve data for airport with ID 12124\n",
      "Error: Could not retrieve data for airport with ID 12523\n",
      "Error: Could not retrieve data for airport with ID 11630\n",
      "Error: Could not retrieve data for airport with ID 10170\n",
      "Error: Could not retrieve data for airport with ID 12448\n",
      "Error: Could not retrieve data for airport with ID 10918\n",
      "Error: Could not retrieve data for airport with ID 15356\n",
      "Error: Could not retrieve data for airport with ID 13344\n",
      "Error: Could not retrieve data for airport with ID 10676\n",
      "Error: Could not retrieve data for airport with ID 10926\n",
      "Error: Could not retrieve data for airport with ID 12156\n",
      "Error: Could not retrieve data for airport with ID 12244\n",
      "Error: Could not retrieve data for airport with ID 10666\n",
      "Error: Could not retrieve data for airport with ID 11612\n",
      "Error: Could not retrieve data for airport with ID 13476\n",
      "Error: Could not retrieve data for airport with ID 13029\n",
      "Error: Could not retrieve data for airport with ID 15411\n",
      "Error: Could not retrieve data for airport with ID 14986\n",
      "Error: Could not retrieve data for airport with ID 11471\n",
      "Error: Could not retrieve data for airport with ID 10155\n",
      "Error: Could not retrieve data for airport with ID 13486\n",
      "Error: Could not retrieve data for airport with ID 14716\n",
      "Error: Could not retrieve data for airport with ID 13296\n",
      "Error: Could not retrieve data for airport with ID 11283\n",
      "Error: Could not retrieve data for airport with ID 10732\n",
      "Error: Could not retrieve data for airport with ID 11003\n",
      "Error: Could not retrieve data for airport with ID 12094\n",
      "Error: Could not retrieve data for airport with ID 13158\n",
      "Error: Could not retrieve data for airport with ID 13121\n",
      "Error: Could not retrieve data for airport with ID 14877\n",
      "Error: Could not retrieve data for airport with ID 12217\n",
      "Error: Could not retrieve data for airport with ID 10372\n",
      "Error: Could not retrieve data for airport with ID 13264\n",
      "Error: Could not retrieve data for airport with ID 10469\n",
      "Error: Could not retrieve data for airport with ID 11336\n",
      "Error: Could not retrieve data for airport with ID 14112\n",
      "Error: Could not retrieve data for airport with ID 13502\n",
      "Error: Could not retrieve data for airport with ID 15027\n",
      "Error: Could not retrieve data for airport with ID 11973\n",
      "Error: Could not retrieve data for airport with ID 10361\n",
      "Error: Could not retrieve data for airport with ID 13388\n",
      "Error: Could not retrieve data for airport with ID 10577\n",
      "Error: Could not retrieve data for airport with ID 13290\n",
      "Error: Could not retrieve data for airport with ID 11577\n",
      "Error: Could not retrieve data for airport with ID 11140\n",
      "Error: Could not retrieve data for airport with ID 15048\n",
      "Error: Could not retrieve data for airport with ID 14960\n",
      "Error: Could not retrieve data for airport with ID 15295\n",
      "Error: Could not retrieve data for airport with ID 11865\n",
      "Error: Could not retrieve data for airport with ID 11049\n",
      "Error: Could not retrieve data for airport with ID 11953\n",
      "Error: Could not retrieve data for airport with ID 12223\n",
      "Error: Could not retrieve data for airport with ID 14254\n",
      "Error: Could not retrieve data for airport with ID 11823\n",
      "Error: Could not retrieve data for airport with ID 15380\n",
      "Error: Could not retrieve data for airport with ID 11447\n",
      "Error: Could not retrieve data for airport with ID 12003\n",
      "Error: Could not retrieve data for airport with ID 14489\n",
      "Error: Could not retrieve data for airport with ID 14082\n",
      "Error: Could not retrieve data for airport with ID 14113\n",
      "Error: Could not retrieve data for airport with ID 12891\n",
      "Error: Could not retrieve data for airport with ID 15249\n",
      "Error: Could not retrieve data for airport with ID 12819\n",
      "Error: Could not retrieve data for airport with ID 12323\n",
      "Error: Could not retrieve data for airport with ID 12343\n",
      "Error: Could not retrieve data for airport with ID 13076\n",
      "Error: Could not retrieve data for airport with ID 11503\n",
      "Error: Could not retrieve data for airport with ID 11617\n",
      "Error: Could not retrieve data for airport with ID 10728\n",
      "Error: Could not retrieve data for airport with ID 10785\n",
      "Error: Could not retrieve data for airport with ID 14674\n",
      "Error: Could not retrieve data for airport with ID 12197\n",
      "Error: Could not retrieve data for airport with ID 14696\n",
      "Error: Could not retrieve data for airport with ID 10781\n",
      "Error: Could not retrieve data for airport with ID 10849\n",
      "Error: Could not retrieve data for airport with ID 14955\n",
      "Error: Could not retrieve data for airport with ID 13433\n",
      "Error: Could not retrieve data for airport with ID 15074\n",
      "Error: Could not retrieve data for airport with ID 13127\n",
      "Error: Could not retrieve data for airport with ID 11013\n",
      "Error: Could not retrieve data for airport with ID 10154\n",
      "Error: Could not retrieve data for airport with ID 10980\n",
      "Error: Could not retrieve data for airport with ID 14098\n",
      "Error: Could not retrieve data for airport with ID 14512\n",
      "Error: Could not retrieve data for airport with ID 12278\n",
      "Error: Could not retrieve data for airport with ID 13933\n",
      "Error: Could not retrieve data for airport with ID 11997\n",
      "Error: Could not retrieve data for airport with ID 11027\n",
      "Error: Could not retrieve data for airport with ID 15582\n",
      "Error: Could not retrieve data for airport with ID 11721\n",
      "Error: Could not retrieve data for airport with ID 12896\n",
      "Error: Could not retrieve data for airport with ID 10279\n",
      "Error: Could not retrieve data for airport with ID 11778\n",
      "Error: Could not retrieve data for airport with ID 12888\n",
      "Error: Could not retrieve data for airport with ID 11415\n",
      "Error: Could not retrieve data for airport with ID 10685\n",
      "Error: Could not retrieve data for airport with ID 14842\n",
      "Error: Could not retrieve data for airport with ID 12265\n",
      "Error: Could not retrieve data for airport with ID 14288\n",
      "Error: Could not retrieve data for airport with ID 12397\n",
      "Error: Could not retrieve data for airport with ID 15624\n",
      "Error: Could not retrieve data for airport with ID 10409\n",
      "Error: Could not retrieve data for airport with ID 12519\n",
      "Error: Could not retrieve data for airport with ID 10136\n",
      "Error: Could not retrieve data for airport with ID 15607\n",
      "Error: Could not retrieve data for airport with ID 14237\n",
      "Error: Could not retrieve data for airport with ID 10779\n",
      "Error: Could not retrieve data for airport with ID 11898\n",
      "Error: Could not retrieve data for airport with ID 11413\n",
      "Error: Could not retrieve data for airport with ID 13983\n",
      "Error: Could not retrieve data for airport with ID 10558\n",
      "Error: Could not retrieve data for airport with ID 10620\n",
      "Error: Could not retrieve data for airport with ID 14222\n",
      "Error: Could not retrieve data for airport with ID 11097\n",
      "Error: Could not retrieve data for airport with ID 15454\n",
      "Error: Could not retrieve data for airport with ID 12899\n",
      "Error: Could not retrieve data for airport with ID 10135\n",
      "Error: Could not retrieve data for airport with ID 12177\n",
      "Error: Could not retrieve data for airport with ID 13795\n",
      "Error: Could not retrieve data for airport with ID 12945\n",
      "Error: Could not retrieve data for airport with ID 12511\n"
     ]
    }
   ],
   "source": [
    "airport_data = []\n",
    "for airport_id in airports:\n",
    "    sleep(request_offset)\n",
    "\n",
    "    r = requests.get(\n",
    "        f\"{airport_endpoint_url}/{airport_id}\",\n",
    "        headers=authorization,\n",
    "    )\n",
    "\n",
    "    if r.status_code != 200:\n",
    "        continue\n",
    "\n",
    "    response = json.loads(r.text)\n",
    "    airport_data.append(response)"
   ]
  },
  {
   "cell_type": "code",
   "execution_count": null,
   "metadata": {},
   "outputs": [],
   "source": [
    "airport_df = pd.DataFrame.from_records(airport_data)\n",
    "airport_df.head()"
   ]
  },
  {
   "cell_type": "markdown",
   "metadata": {
    "id": "PBYU4uZIcSrC"
   },
   "source": [
    "Check:"
   ]
  },
  {
   "cell_type": "code",
   "execution_count": 6,
   "metadata": {
    "colab": {
     "base_uri": "https://localhost:8080/",
     "height": 183
    },
    "id": "v_uYoqUxcSrD",
    "outputId": "99974b89-87c9-4ced-cb20-3830cda40085"
   },
   "outputs": [],
   "source": [
    "airport_df_expected_shape = (97, 4)\n",
    "assert airport_df_expected_shape == airport_df.shape"
   ]
  },
  {
   "cell_type": "code",
   "execution_count": 7,
   "metadata": {
    "id": "kX0YVty_cSrE"
   },
   "outputs": [],
   "source": [
    "airport_df.to_csv(\"..\\\\data\\\\raw\\\\airport_list.csv\", index=False)"
   ]
  },
  {
   "cell_type": "markdown",
   "metadata": {
    "id": "WFFoDzkMcSrE"
   },
   "source": [
    " # Download `Weather`\n"
   ]
  },
  {
   "cell_type": "code",
   "execution_count": 8,
   "metadata": {},
   "outputs": [
    {
     "name": "stdout",
     "output_type": "stream",
     "text": [
      "Successfully fetched data for 2019-01\n",
      "Successfully fetched data for 2019-02\n",
      "Successfully fetched data for 2019-03\n",
      "Successfully fetched data for 2019-04\n",
      "Successfully fetched data for 2019-05\n",
      "Successfully fetched data for 2019-06\n",
      "Successfully fetched data for 2019-07\n",
      "Successfully fetched data for 2019-08\n",
      "Successfully fetched data for 2019-09\n",
      "Successfully fetched data for 2019-10\n",
      "Successfully fetched data for 2019-11\n",
      "Successfully fetched data for 2019-12\n",
      "Successfully fetched data for 2020-01\n",
      "Successfully fetched data for 2020-02\n",
      "Successfully fetched data for 2020-03\n"
     ]
    }
   ],
   "source": [
    "months_amount = 15\n",
    "start_date = datetime(2019, 1, 1)\n",
    "airport_weather_endpoint_url = f\"{endpoint_url}/airportWeather\""
   ]
  },
  {
   "cell_type": "code",
   "execution_count": null,
   "metadata": {},
   "outputs": [],
   "source": [
    "def get_weather_data(date):\n",
    "    r = requests.get(\n",
    "        airport_weather_endpoint_url,\n",
    "        headers=authorization,\n",
    "        params={'date': date.strftime('%Y-%m')}\n",
    "    )\n",
    "\n",
    "    print(date.strftime('%Y-%m'))\n",
    "    response = json.loads(r.text)\n",
    "\n",
    "    return response"
   ]
  },
  {
   "cell_type": "code",
   "execution_count": null,
   "metadata": {},
   "outputs": [],
   "source": [
    "airport_weather_data = []\n",
    "\n",
    "for month in range(months_amount):\n",
    "    print(f\"Pobieram {month+1} z {months_amount}\")\n",
    "    date = start_date + relativedelta(months=month)\n",
    "    daily_weather = get_weather_data(date)\n",
    "    print(len(daily_weather))\n",
    "\n",
    "    airport_weather_data += daily_weather\n",
    "    sleep(request_offset)"
   ]
  },
  {
   "cell_type": "code",
   "execution_count": null,
   "metadata": {},
   "outputs": [],
   "source": [
    "airport_weather_df = pd.DataFrame.from_records(airport_weather_data)\n",
    "airport_weather_df.head()"
   ]
  },
  {
   "cell_type": "markdown",
   "metadata": {
    "id": "ESOue3vucSrF"
   },
   "source": [
    " ## Check\n"
   ]
  },
  {
   "cell_type": "code",
   "execution_count": 9,
   "metadata": {
    "id": "RyAhmF0tcSrF"
   },
   "outputs": [],
   "source": [
    "airport_weather_df_expected_shape = (46226, 33)\n",
    "assert airport_weather_df_expected_shape == airport_weather_df.shape"
   ]
  },
  {
   "cell_type": "markdown",
   "metadata": {
    "id": "s6AC9708cSrF"
   },
   "source": [
    " ## save to file"
   ]
  },
  {
   "cell_type": "code",
   "execution_count": 10,
   "metadata": {
    "id": "-XdjTZeucSrG"
   },
   "outputs": [],
   "source": [
    "airport_weather_df.to_csv('..\\\\data\\\\raw\\\\airport_weather.csv', index=False)"
   ]
  },
  {
   "cell_type": "markdown",
   "metadata": {
    "id": "TjzQYZp7cSrG"
   },
   "source": [
    " # Download `Aircraft`\n",
    " \n"
   ]
  },
  {
   "cell_type": "code",
   "execution_count": 11,
   "metadata": {
    "id": "bxqkmGNOdjnL"
   },
   "outputs": [
    {
     "name": "stdout",
     "output_type": "stream",
     "text": [
      "   MANUFACTURE_YEAR TAIL_NUM  NUMBER_OF_SEATS\n",
      "0              1944   N54514              0.0\n",
      "1              1945   N1651M              0.0\n",
      "2              1953   N100CE              0.0\n",
      "3              1953   N141FL              0.0\n",
      "4              1953   N151FL              0.0\n"
     ]
    }
   ],
   "source": [
    "aircraft_endpoint_url = f\"{endpoint_url}/aircraft\"\n",
    "r = requests.get(aircraft_endpoint_url, headers=authorization)\n",
    "data = json.loads(r.text)\n",
    "\n",
    "aircraft_df = pd.DataFrame.from_records(data)\n",
    "aircraft_df.head()"
   ]
  },
  {
   "cell_type": "markdown",
   "metadata": {
    "id": "d8i46jiccSrG"
   },
   "source": [
    " ## Check\n"
   ]
  },
  {
   "cell_type": "code",
   "execution_count": 12,
   "metadata": {
    "id": "pHH5brQscSrG"
   },
   "outputs": [],
   "source": [
    "aircraft_df_expected_shape = (7383, 3)\n",
    "assert aircraft_df_expected_shape == aircraft_df.shape"
   ]
  },
  {
   "cell_type": "markdown",
   "metadata": {
    "id": "mWgrH0AWcSrG"
   },
   "source": [
    " ## Save to file"
   ]
  },
  {
   "cell_type": "code",
   "execution_count": 13,
   "metadata": {
    "id": "mKmE38mycSrH"
   },
   "outputs": [],
   "source": [
    "aircraft_df.to_csv('..\\\\data\\\\raw\\\\aircraft.csv', index=False)\n"
   ]
  },
  {
   "cell_type": "markdown",
   "metadata": {
    "id": "MXI-QwVbcSrH"
   },
   "source": [
    " # Download `Flight`\n",
    " "
   ]
  },
  {
   "cell_type": "code",
   "execution_count": null,
   "metadata": {
    "id": "X7hWOqzCcSrH"
   },
   "outputs": [],
   "source": [
    "endpoint_url = 'https://api-#############/api'\n",
    "token = 'WpzDMZeeCq6tbPdsTHUX8W9mecuUVwXAnmcorefr'\n",
    "request_offset = 0.3\n",
    "authorization = {'authorization': token}\n",
    "\n",
    "flight_endpoint_url = f\"{endpoint_url}/flight\"\n",
    "\n",
    "def get_airport_data(airport_id):\n",
    "    result = []\n",
    "    start_date = datetime(2019, 1, 1)\n",
    "    end_date = datetime.now()\n",
    "    months_amount = (end_date.year - start_date.year) * 12 + end_date.month - start_date.month + 1\n",
    "\n",
    "    for month in range(months_amount):\n",
    "        date = start_date + relativedelta(months=month)\n",
    "        print(f\"\\t{date}\")\n",
    "\n",
    "        response = get_airport_day_data(airport_id, date)\n",
    "        result += response\n",
    "\n",
    "        sleep(request_offset)\n",
    "\n",
    "    return result\n",
    "\n",
    "def get_airport_day_data(airport_id, date):\n",
    "    payload = {\n",
    "        'airportId': airport_id,\n",
    "        'date': date.strftime('%Y-%m')\n",
    "    }\n",
    "\n",
    "    r = requests.get(\n",
    "        flight_endpoint_url,\n",
    "        headers=authorization,\n",
    "        params=payload)\n",
    "\n",
    "    response = json.loads(r.text)\n",
    "    return response\n",
    "\n",
    "airports = pd.read_csv(r\"..\\\\data\\\\airports.csv\")\n",
    "\n",
    "\n",
    "flight = []\n",
    "airports_amount = len(airports)\n",
    "\n",
    "for idx, airport in enumerate(airports.to_dict(orient='records')):\n",
    "    print(f\"{airport}: {idx + 1} of {airports_amount}\")\n",
    "    airport_flight = get_airport_data(airport[\"origin_airport_id\"])\n",
    "    flight += airport_flight\n",
    "    \n",
    "flight_df = pd.DataFrame.from_records(flight)\n",
    "flight_df.head()"
   ]
  },
  {
   "cell_type": "markdown",
   "metadata": {
    "id": "9UJgH0CGcSrH"
   },
   "source": [
    " ## Check\n"
   ]
  },
  {
   "cell_type": "code",
   "execution_count": null,
   "metadata": {
    "id": "Igrh65KgcSrH"
   },
   "outputs": [],
   "source": [
    "flight_df_expected_shape = (9251880, 27)\n",
    "assert flight_df_expected_shape == flight_df.shape"
   ]
  },
  {
   "cell_type": "markdown",
   "metadata": {
    "id": "3nfBsnwNcSrI"
   },
   "source": [
    " ## Save to file\n",
    "  `data/raw`."
   ]
  },
  {
   "cell_type": "code",
   "execution_count": null,
   "metadata": {
    "id": "737lnCqacSrI"
   },
   "outputs": [],
   "source": [
    "flight_df.to_csv('flight.csv')"
   ]
  },
  {
   "cell_type": "markdown",
   "metadata": {
    "id": "AbxEeR32cSrI"
   },
   "source": [
    " # Summary"
   ]
  },
  {
   "cell_type": "code",
   "execution_count": null,
   "metadata": {
    "id": "XFsso0kKcSrI"
   },
   "outputs": [],
   "source": [
    "msg = \"Everything looks good :))\"\n",
    "print(msg)"
   ]
  }
 ],
 "metadata": {
  "colab": {
   "provenance": []
  },
  "kernelspec": {
   "display_name": "Python 3 (ipykernel)",
   "language": "python",
   "name": "python3"
  },
  "language_info": {
   "codemirror_mode": {
    "name": "ipython",
    "version": 3
   },
   "file_extension": ".py",
   "mimetype": "text/x-python",
   "name": "python",
   "nbconvert_exporter": "python",
   "pygments_lexer": "ipython3",
   "version": "3.9.12"
  },
  "vscode": {
   "interpreter": {
    "hash": "97b21747a2d6163ce9759ba63e94e55ef90a08103eb2c9ebee1827489f5a0c25"
   }
  }
 },
 "nbformat": 4,
 "nbformat_minor": 1
}
